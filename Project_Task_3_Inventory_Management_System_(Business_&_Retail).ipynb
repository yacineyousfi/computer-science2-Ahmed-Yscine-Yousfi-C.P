{
  "nbformat": 4,
  "nbformat_minor": 0,
  "metadata": {
    "colab": {
      "provenance": []
    },
    "kernelspec": {
      "name": "python3",
      "display_name": "Python 3"
    },
    "language_info": {
      "name": "python"
    }
  },
  "cells": [
    {
      "cell_type": "code",
      "source": [
        "# Ahmed Yacine Yousfi - Inventory Management System\n",
        "# Step 1: Set up the SQLite database and product table\n",
        "\n",
        "import sqlite3\n",
        "\n",
        "# Connect to the database file (creates it if not found)\n",
        "db_connection = sqlite3.connect(\"inventory.db\")\n",
        "db_cursor = db_connection.cursor()\n",
        "\n",
        "# Create a table for storing product data\n",
        "db_cursor.execute(\"\"\"\n",
        "CREATE TABLE IF NOT EXISTS products (\n",
        "    product_id TEXT PRIMARY KEY,\n",
        "    name TEXT,\n",
        "    category TEXT,\n",
        "    price REAL,\n",
        "    quantity INTEGER\n",
        ")\n",
        "\"\"\")\n",
        "\n",
        "db_connection.commit()\n",
        "db_connection.close()\n",
        "\n",
        "print(\"📦 Inventory database initialized successfully.\")\n"
      ],
      "metadata": {
        "colab": {
          "base_uri": "https://localhost:8080/"
        },
        "id": "NztKE_G5_X0J",
        "outputId": "c8034eca-0e1c-40ed-9538-ffc6aab6ae29"
      },
      "execution_count": 2,
      "outputs": [
        {
          "output_type": "stream",
          "name": "stdout",
          "text": [
            "📦 Inventory database initialized successfully.\n"
          ]
        }
      ]
    },
    {
      "cell_type": "code",
      "source": [
        "# Step 2: Main menu function for user navigation\n",
        "\n",
        "def main_menu():\n",
        "    print(\"\\n===== Inventory Menu =====\")\n",
        "    print(\"1. Add Product\")\n",
        "    print(\"2. Search Product\")\n",
        "    print(\"3. Update Quantity\")\n",
        "    print(\"4. Show All Products\")\n",
        "    print(\"5. Exit\")\n",
        "    return input(\"Choose an option (1-5): \")\n"
      ],
      "metadata": {
        "id": "7mM_kMmm_ccP"
      },
      "execution_count": 3,
      "outputs": []
    },
    {
      "cell_type": "code",
      "source": [
        "# Step 3: Function to add new items to inventory\n",
        "\n",
        "def add_item():\n",
        "    # Ask user for product details\n",
        "    pid = input(\"Enter Product ID: \")\n",
        "    pname = input(\"Enter Product Name: \")\n",
        "    pcat = input(\"Enter Product Category: \")\n",
        "\n",
        "    try:\n",
        "        pprice = float(input(\"Enter Price: \"))\n",
        "        pqty = int(input(\"Enter Quantity: \"))\n",
        "    except:\n",
        "        print(\"⚠️ Invalid input! Price must be a number and quantity must be an integer.\")\n",
        "        return\n",
        "\n",
        "    # Connect to DB and insert product\n",
        "    conn = sqlite3.connect(\"inventory.db\")\n",
        "    cur = conn.cursor()\n",
        "    try:\n",
        "        cur.execute(\"INSERT INTO products VALUES (?, ?, ?, ?, ?)\", (pid, pname, pcat, pprice, pqty))\n",
        "        conn.commit()\n",
        "        print(\"✅ Product successfully added.\")\n",
        "    except sqlite3.IntegrityError:\n",
        "        print(\"❌ Product ID already exists.\")\n",
        "    conn.close()\n"
      ],
      "metadata": {
        "id": "YylJN2vW_iEq"
      },
      "execution_count": 4,
      "outputs": []
    },
    {
      "cell_type": "code",
      "source": [
        "# Step 4: Function to search for a product by ID or name\n",
        "\n",
        "def search_item():\n",
        "    keyword = input(\"🔎 Enter Product ID or Name to search: \")\n",
        "\n",
        "    conn = sqlite3.connect(\"inventory.db\")\n",
        "    cur = conn.cursor()\n",
        "\n",
        "    # Look for matches in product_id or name\n",
        "    cur.execute(\"SELECT * FROM products WHERE product_id = ? OR name LIKE ?\", (keyword, f\"%{keyword}%\"))\n",
        "    result = cur.fetchall()\n",
        "    conn.close()\n",
        "\n",
        "    if result:\n",
        "        print(\"\\n🎯 Search Results:\")\n",
        "        for row in result:\n",
        "            print(f\"ID: {row[0]}, Name: {row[1]}, Category: {row[2]}, Price: {row[3]}, Quantity: {row[4]}\")\n",
        "    else:\n",
        "        print(\"❌ No matching product found.\")\n"
      ],
      "metadata": {
        "id": "V07_A2fu_p6x"
      },
      "execution_count": 5,
      "outputs": []
    },
    {
      "cell_type": "code",
      "source": [
        "# Step 5: Function to update stock quantity of an existing product\n",
        "\n",
        "def update_quantity():\n",
        "    pid = input(\"🛠️ Enter the Product ID to update: \")\n",
        "\n",
        "    try:\n",
        "        change = int(input(\"Enter quantity change (positive to add, negative to remove): \"))\n",
        "    except:\n",
        "        print(\"⚠️ Invalid number.\")\n",
        "        return\n",
        "\n",
        "    conn = sqlite3.connect(\"inventory.db\")\n",
        "    cur = conn.cursor()\n",
        "\n",
        "    # Check if product exists\n",
        "    cur.execute(\"SELECT quantity FROM products WHERE product_id = ?\", (pid,))\n",
        "    item = cur.fetchone()\n",
        "\n",
        "    if item:\n",
        "        new_qty = item[0] + change\n",
        "        if new_qty < 0:\n",
        "            print(\"❌ Cannot reduce below 0.\")\n",
        "        else:\n",
        "            cur.execute(\"UPDATE products SET quantity = ? WHERE product_id = ?\", (new_qty, pid))\n",
        "            conn.commit()\n",
        "            print(f\"✅ Stock updated. New quantity: {new_qty}\")\n",
        "    else:\n",
        "        print(\"❌ Product not found.\")\n",
        "    conn.close()\n"
      ],
      "metadata": {
        "id": "bc_TwkyN_tRv"
      },
      "execution_count": 6,
      "outputs": []
    },
    {
      "cell_type": "code",
      "source": [
        "# Step 6: Display all inventory items\n",
        "\n",
        "def show_all():\n",
        "    conn = sqlite3.connect(\"inventory.db\")\n",
        "    cur = conn.cursor()\n",
        "\n",
        "    cur.execute(\"SELECT * FROM products\")\n",
        "    items = cur.fetchall()\n",
        "    conn.close()\n",
        "\n",
        "    if items:\n",
        "        print(\"\\n📦 Full Inventory List:\")\n",
        "        for p in items:\n",
        "            print(f\"ID: {p[0]}, Name: {p[1]}, Category: {p[2]}, Price: {p[3]}, Quantity: {p[4]}\")\n",
        "    else:\n",
        "        print(\"⚠️ No products in inventory.\")\n"
      ],
      "metadata": {
        "id": "jAaPAggZ_wzn"
      },
      "execution_count": 7,
      "outputs": []
    },
    {
      "cell_type": "code",
      "source": [
        "# Step 7: Program loop to run the menu and call functions\n",
        "\n",
        "while True:\n",
        "    option = main_menu()\n",
        "\n",
        "    if option == \"1\":\n",
        "        add_item()\n",
        "    elif option == \"2\":\n",
        "        search_item()\n",
        "    elif option == \"3\":\n",
        "        update_quantity()\n",
        "    elif option == \"4\":\n",
        "        show_all()\n",
        "    elif option == \"5\":\n",
        "        print(\"👋 Exiting Inventory System. Goodbye!\")\n",
        "        break\n",
        "    else:\n",
        "        print(\"⚠️ Invalid option. Please choose between 1 and 5.\")\n"
      ],
      "metadata": {
        "colab": {
          "base_uri": "https://localhost:8080/"
        },
        "id": "QqEX0bn1_3Ox",
        "outputId": "82460878-54f1-4e4f-9705-cc1e6d0bed6a"
      },
      "execution_count": null,
      "outputs": [
        {
          "output_type": "stream",
          "name": "stdout",
          "text": [
            "\n",
            "===== Inventory Menu =====\n",
            "1. Add Product\n",
            "2. Search Product\n",
            "3. Update Quantity\n",
            "4. Show All Products\n",
            "5. Exit\n",
            "Choose an option (1-5): 1\n",
            "Enter Product ID: P001\n",
            "Enter Product Name: Wireless Mouse\n",
            "Enter Product Category: Accessories\n",
            "Enter Price: 15.99\n",
            "Enter Quantity: 25\n",
            "✅ Product successfully added.\n",
            "\n",
            "===== Inventory Menu =====\n",
            "1. Add Product\n",
            "2. Search Product\n",
            "3. Update Quantity\n",
            "4. Show All Products\n",
            "5. Exit\n",
            "Choose an option (1-5): 2\n",
            "🔎 Enter Product ID or Name to search: p001\n",
            "❌ No matching product found.\n",
            "\n",
            "===== Inventory Menu =====\n",
            "1. Add Product\n",
            "2. Search Product\n",
            "3. Update Quantity\n",
            "4. Show All Products\n",
            "5. Exit\n",
            "Choose an option (1-5): 2\n",
            "🔎 Enter Product ID or Name to search: P001\n",
            "\n",
            "🎯 Search Results:\n",
            "ID: P001, Name: Wireless Mouse, Category: Accessories, Price: 15.99, Quantity: 25\n",
            "\n",
            "===== Inventory Menu =====\n",
            "1. Add Product\n",
            "2. Search Product\n",
            "3. Update Quantity\n",
            "4. Show All Products\n",
            "5. Exit\n"
          ]
        }
      ]
    }
  ]
}